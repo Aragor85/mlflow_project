{
 "cells": [
  {
   "cell_type": "code",
   "execution_count": null,
   "id": "eb6b0845-8de1-4014-9349-2fb49ef2570c",
   "metadata": {},
   "outputs": [],
   "source": [
    "import requests "
   ]
  },
  {
   "cell_type": "code",
   "execution_count": null,
   "id": "cb185c63-6cce-4a5d-ba2a-b512b437fea9",
   "metadata": {},
   "outputs": [],
   "source": [
    "\n",
    "response = requests.post(\"http://127.0.0.1:8000/predict\", json={\"text\": \"Air Paradis is amazing!\"})\n",
    "print(response.json())"
   ]
  },
  {
   "cell_type": "code",
   "execution_count": null,
   "id": "421e1ceb-df28-47a6-8b88-ab350f752efa",
   "metadata": {},
   "outputs": [],
   "source": []
  }
 ],
 "metadata": {
  "kernelspec": {
   "display_name": "Python 3 (ipykernel)",
   "language": "python",
   "name": "python3"
  },
  "language_info": {
   "name": ""
  }
 },
 "nbformat": 4,
 "nbformat_minor": 5
}
